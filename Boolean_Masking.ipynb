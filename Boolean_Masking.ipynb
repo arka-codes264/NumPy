{
 "cells": [
  {
   "cell_type": "code",
   "execution_count": 2,
   "id": "9a7d4b08-292d-449c-ad52-ebfa810fb61b",
   "metadata": {},
   "outputs": [
    {
     "name": "stdout",
     "output_type": "stream",
     "text": [
      "Original ages: [ 22  25  29  31 120  28  26 200  30  27]\n",
      "Outliers detected: [120 200]\n",
      "Cleaned data: [22 25 29 31 28 26 30 27]\n"
     ]
    }
   ],
   "source": [
    "import numpy as np\n",
    "\n",
    "# Synthetic data: ages\n",
    "ages = np.array([22, 25, 29, 31, 120, 28, 26, 200, 30, 27])\n",
    "\n",
    "# Define outlier rule (age > 100 unrealistic)\n",
    "mask = ages > 100\n",
    "outliers = ages[mask]\n",
    "\n",
    "print(\"Original ages:\", ages)\n",
    "print(\"Outliers detected:\", outliers)\n",
    "\n",
    "# Remove outliers\n",
    "cleaned = ages[~mask]\n",
    "print(\"Cleaned data:\", cleaned)"
   ]
  },
  {
   "cell_type": "code",
   "execution_count": 3,
   "id": "ee493670-7ffe-4f62-b887-51c35f73e31b",
   "metadata": {},
   "outputs": [
    {
     "name": "stdout",
     "output_type": "stream",
     "text": [
      "Original Sales Data:\n",
      " [  200   250   300   280   260   310   295   320   400   270   290  5000\n",
      "   220   240   230 10000   260   275]\n",
      "\n",
      "Outliers detected: [ 5000 10000]\n",
      "\n",
      "Cleaned Sales Data:\n",
      " [200 250 300 280 260 310 295 320 400 270 290 220 240 230 260 275]\n",
      "\n",
      "Original Mean: 1077.7777777777778\n",
      "Cleaned Mean: 275.0\n",
      "\n",
      "Original Median: 277.5\n",
      "Cleaned Median: 272.5\n"
     ]
    }
   ],
   "source": [
    "import numpy as np\n",
    "\n",
    "# Simulated daily sales data (₹ values)\n",
    "sales = np.array([200, 250, 300, 280, 260, 310, 295, 320, 400, \n",
    "                  270, 290, 5000, 220, 240, 230, 10_000, 260, 275])\n",
    "\n",
    "print(\"Original Sales Data:\\n\", sales)\n",
    "\n",
    "#Detect outliers (rule: sales > 1000)\n",
    "mask = sales > 1000\n",
    "outliers = sales[mask]\n",
    "\n",
    "print(\"\\nOutliers detected:\", outliers)\n",
    "\n",
    "# Remove outliers\n",
    "cleaned_sales = sales[~mask]\n",
    "\n",
    "print(\"\\nCleaned Sales Data:\\n\", cleaned_sales)\n",
    "\n",
    "# Compare statistics\n",
    "print(\"\\nOriginal Mean:\", sales.mean())\n",
    "print(\"Cleaned Mean:\", cleaned_sales.mean())\n",
    "\n",
    "print(\"\\nOriginal Median:\", np.median(sales))\n",
    "print(\"Cleaned Median:\", np.median(cleaned_sales))\n"
   ]
  },
  {
   "cell_type": "code",
   "execution_count": null,
   "id": "b80a7a5e-7c1b-4510-9cda-a7a9d845ef2f",
   "metadata": {},
   "outputs": [],
   "source": []
  }
 ],
 "metadata": {
  "kernelspec": {
   "display_name": "Python [conda env:base] *",
   "language": "python",
   "name": "conda-base-py"
  },
  "language_info": {
   "codemirror_mode": {
    "name": "ipython",
    "version": 3
   },
   "file_extension": ".py",
   "mimetype": "text/x-python",
   "name": "python",
   "nbconvert_exporter": "python",
   "pygments_lexer": "ipython3",
   "version": "3.13.5"
  }
 },
 "nbformat": 4,
 "nbformat_minor": 5
}
