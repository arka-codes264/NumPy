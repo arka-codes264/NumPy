{
 "cells": [
  {
   "cell_type": "code",
   "execution_count": 3,
   "id": "36e51795-7e18-47a2-bea1-48694b218ec6",
   "metadata": {},
   "outputs": [
    {
     "name": "stdout",
     "output_type": "stream",
     "text": [
      "NumPy array size: 7.63 MB\n"
     ]
    }
   ],
   "source": [
    "import numpy as np\n",
    "import sys\n",
    "\n",
    "# Dataset size\n",
    "N = 1_000_000  \n",
    "\n",
    "# NumPy Array\n",
    "numpy_data = np.array(list_data)\n",
    "numpy_size = numpy_data.nbytes\n",
    "\n",
    "print(f\"NumPy array size: {numpy_size / (1024*1024):.2f} MB\")\n"
   ]
  },
  {
   "cell_type": "code",
   "execution_count": 4,
   "id": "a0b4d0fb-4cb4-4200-90f9-04e4071caa88",
   "metadata": {},
   "outputs": [
    {
     "name": "stdout",
     "output_type": "stream",
     "text": [
      "Python list size: 26.70 MB\n"
     ]
    }
   ],
   "source": [
    "import sys\n",
    "# Dataset size\n",
    "N = 1_000_000  \n",
    "\n",
    "# Python List\n",
    "list_data = list(range(N))\n",
    "list_size = sys.getsizeof(list_data[0]) * len(list_data)\n",
    "\n",
    "print(f\"Python list size: {list_size / (1024*1024):.2f} MB\")"
   ]
  },
  {
   "cell_type": "code",
   "execution_count": null,
   "id": "a03f5843-402a-4307-a471-22463fba558e",
   "metadata": {},
   "outputs": [],
   "source": []
  }
 ],
 "metadata": {
  "kernelspec": {
   "display_name": "Python [conda env:base] *",
   "language": "python",
   "name": "conda-base-py"
  },
  "language_info": {
   "codemirror_mode": {
    "name": "ipython",
    "version": 3
   },
   "file_extension": ".py",
   "mimetype": "text/x-python",
   "name": "python",
   "nbconvert_exporter": "python",
   "pygments_lexer": "ipython3",
   "version": "3.13.5"
  }
 },
 "nbformat": 4,
 "nbformat_minor": 5
}
