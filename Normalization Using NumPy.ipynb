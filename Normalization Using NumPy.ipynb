{
 "cells": [
  {
   "cell_type": "raw",
   "id": "4dc625aa-9cfc-4e00-b461-1ae6fd652b8a",
   "metadata": {},
   "source": [
    "Dataset:\n",
    "I randomly listed marks for 5 students across 4 subjects (values between 40–100):\n",
    "\n",
    "[[78 91 68 54]\n",
    " [82 47 60 78]\n",
    " [97 58 62 50]\n",
    " [50 63 92 75]\n",
    " [79 63 42 61]]"
   ]
  },
  {
   "cell_type": "raw",
   "id": "42fd480f-78ea-4cd8-ba82-b58afe8b97bf",
   "metadata": {},
   "source": [
    "Each row = one student’s marks across all subjects.\n",
    "Each column = marks of all students in one subject."
   ]
  },
  {
   "cell_type": "raw",
   "id": "dd7b2cf6-1086-460a-8e43-6eb609850ebc",
   "metadata": {},
   "source": [
    "Mean & Standard Deviation (per subject)\n",
    "\n",
    "Mean per subject → [77.2, 64.4, 64.8, 63.6]\n",
    "Std. Dev per subject → [15.22, 14.52, 16.12, 11.14]\n",
    "\n",
    "This means:\n",
    "👉 On average, students scored 77 in Subject 1, 64 in Subject 2, etc.\n",
    "👉 The standard deviation tells us how spread out the marks are."
   ]
  },
  {
   "cell_type": "raw",
   "id": "e012031e-e5b2-4535-875d-e2dc3732a923",
   "metadata": {},
   "source": [
    "Now we have to Normalize & we have two way to do it :->\n",
    "1. Using manual Python Loops \n",
    "2. Using Numpy vectorization\n",
    "\n",
    "after normalization:\n",
    "\n",
    "0 → exactly average performance\n",
    "Positive values → above average\n",
    "Negative values → below average"
   ]
  },
  {
   "cell_type": "code",
   "execution_count": 24,
   "id": "b39cac4d-9e16-4751-91cf-b2a3db8c0114",
   "metadata": {},
   "outputs": [
    {
     "name": "stdout",
     "output_type": "stream",
     "text": [
      "Original Marks : \n",
      " [[78, 91, 68, 54], [82, 47, 60, 78], [97, 58, 62, 50], [50, 63, 92, 75], [79, 63, 42, 61]]\n",
      "\n",
      "Mean (per subject): [77.2, 64.4, 64.8, 63.6]\n",
      "Std Deviation (per subject): [15.22, 14.52, 16.12, 11.14]\n",
      "\n",
      "Z-values (Normalized with loops):\n",
      " [[0.052562417871221886, 1.8319559228650135, 0.1985111662531019, -0.8617594254937164], [0.31537450722733223, -1.198347107438017, -0.2977667493796524, 1.2926391382405744], [1.3009198423127462, -0.44077134986225935, -0.17369727047146383, -1.220825852782765], [-1.7871222076215507, -0.09641873278236954, 1.687344913151365, 1.023339317773788], [0.11826544021024948, -0.09641873278236954, -1.4143920595533497, -0.23339317773788162]]\n",
      "\n",
      "Time taken using loops: 0.00009799 seconds\n"
     ]
    }
   ],
   "source": [
    "import time\n",
    "\n",
    "# Using manual Python Loops\n",
    "# Marks dataset\n",
    "marks = [\n",
    "    [78, 91, 68, 54],\n",
    "    [82, 47, 60, 78],\n",
    "    [97, 58, 62, 50],\n",
    "    [50, 63, 92, 75],\n",
    "    [79, 63, 42, 61]\n",
    "]\n",
    "print(\"Original Marks : \\n\", marks)\n",
    "\n",
    "# Pre-computed means and stds for each column (subject)\n",
    "mean = [77.2, 64.4, 64.8, 63.6]\n",
    "std  = [15.22, 14.52, 16.12, 11.14]\n",
    "print(\"\\nMean (per subject):\", mean)\n",
    "print(\"Std Deviation (per subject):\", std)\n",
    "\n",
    "# Start timer\n",
    "start_time = time.time()\n",
    "\n",
    "# Normalization using loops\n",
    "normalized_loops = []\n",
    "for i in range(len(marks)):           # loop over students (rows)\n",
    "    row = []\n",
    "    for j in range(len(marks[0])):    # loop over subjects (columns)\n",
    "        z = (marks[i][j] - mean[j]) / std[j]\n",
    "        row.append(z)\n",
    "    normalized_loops.append(row)\n",
    "\n",
    "end_time = time.time()\n",
    "\n",
    "print(\"\\nZ-values (Normalized with loops):\\n\", normalized_loops)\n",
    "print(\"\\nTime taken using loops: {:.8f} seconds\".format(end_time - start_time))"
   ]
  },
  {
   "cell_type": "code",
   "execution_count": 25,
   "id": "2f4edf7c-73aa-49a2-8dad-0967b18b461a",
   "metadata": {},
   "outputs": [
    {
     "name": "stdout",
     "output_type": "stream",
     "text": [
      "Original Marks:\n",
      " [[78 91 68 54]\n",
      " [82 47 60 78]\n",
      " [97 58 62 50]\n",
      " [50 63 92 75]\n",
      " [79 63 42 61]]\n",
      "\n",
      "Mean (per subject): [77.2 64.4 64.8 63.6]\n",
      "Std Deviation (per subject): [15.22366579 14.52721584 16.12947612 11.14629983]\n",
      "\n",
      "Normalized Marks (Z-scores):\n",
      " [[ 0.05254976  1.83104597  0.19839454 -0.86127236]\n",
      " [ 0.31529857 -1.19775187 -0.29759181  1.29190854]\n",
      " [ 1.30060659 -0.44055241 -0.17359522 -1.22013585]\n",
      " [-1.78669188 -0.09637084  1.68635359  1.02276093]\n",
      " [ 0.11823696 -0.09637084 -1.4135611  -0.23326127]]\n",
      "\n",
      "Time taken using NumPy vectorization: 0.00004101 seconds\n"
     ]
    }
   ],
   "source": [
    "import numpy as np\n",
    "import time\n",
    "\n",
    "# Using NumPy (Vectorization)\n",
    "\n",
    "# sample dataset (5 students × 4 subjects)\n",
    "np.random.seed(42)                               # for reproducibility\n",
    "marks = np.random.randint(40, 100, size=(5, 4))  # marks between 40 and 100\n",
    "print(\"Original Marks:\\n\", marks)\n",
    "\n",
    "# mean & standard deviation (per subject/column)\n",
    "mean = marks.mean(axis=0)                        # mean per subject\n",
    "std = marks.std(axis=0)                          # std per subject\n",
    "print(\"\\nMean (per subject):\", mean)\n",
    "print(\"Std Deviation (per subject):\", std)\n",
    "\n",
    "# start timer\n",
    "start_time = time.time()\n",
    "\n",
    "# Normalize the dataset using vectorization (Z-score normalization)\n",
    "normalized_marks = (marks - mean) / std\n",
    "\n",
    "end_time = time.time()\n",
    "\n",
    "print(\"\\nNormalized Marks (Z-scores):\\n\", normalized_marks)\n",
    "print(\"\\nTime taken using NumPy vectorization: {:.8f} seconds\".format(end_time - start_time))"
   ]
  },
  {
   "cell_type": "code",
   "execution_count": null,
   "id": "c0567976-a9a6-45fb-99ce-8ebe29b745a2",
   "metadata": {},
   "outputs": [],
   "source": []
  }
 ],
 "metadata": {
  "kernelspec": {
   "display_name": "Python [conda env:base] *",
   "language": "python",
   "name": "conda-base-py"
  },
  "language_info": {
   "codemirror_mode": {
    "name": "ipython",
    "version": 3
   },
   "file_extension": ".py",
   "mimetype": "text/x-python",
   "name": "python",
   "nbconvert_exporter": "python",
   "pygments_lexer": "ipython3",
   "version": "3.13.5"
  }
 },
 "nbformat": 4,
 "nbformat_minor": 5
}
