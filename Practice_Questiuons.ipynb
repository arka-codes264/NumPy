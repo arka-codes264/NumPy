{
 "cells": [
  {
   "cell_type": "code",
   "execution_count": 1,
   "id": "505dc232-adb7-4d60-88f5-16cf3a7ab70d",
   "metadata": {},
   "outputs": [],
   "source": [
    "import numpy as np\n",
    "import time"
   ]
  },
  {
   "cell_type": "code",
   "execution_count": 2,
   "id": "903fb6ca-d129-411a-aec3-d10c8b0f4d6d",
   "metadata": {},
   "outputs": [
    {
     "name": "stdout",
     "output_type": "stream",
     "text": [
      "Creating NumPy array from 10 to 100\n",
      "[ 10  11  12  13  14  15  16  17  18  19  20  21  22  23  24  25  26  27\n",
      "  28  29  30  31  32  33  34  35  36  37  38  39  40  41  42  43  44  45\n",
      "  46  47  48  49  50  51  52  53  54  55  56  57  58  59  60  61  62  63\n",
      "  64  65  66  67  68  69  70  71  72  73  74  75  76  77  78  79  80  81\n",
      "  82  83  84  85  86  87  88  89  90  91  92  93  94  95  96  97  98  99\n",
      " 100]\n",
      "Shape (91,)\n",
      "Size  91\n"
     ]
    }
   ],
   "source": [
    "#q1 Create a NumPy array with values from 10 to 100 and print its shape.\n",
    "\n",
    "print(\"Creating NumPy array from 10 to 100\")\n",
    "arr1 = np.arange(10,101)\n",
    "print(arr1)\n",
    "print(f\"Shape {arr1.shape}\")\n",
    "print(f\"Size  {arr1.size}\")"
   ]
  },
  {
   "cell_type": "code",
   "execution_count": 3,
   "id": "20a60d67-03f4-4c5e-ba09-672fe6fa4fa1",
   "metadata": {},
   "outputs": [
    {
     "name": "stdout",
     "output_type": "stream",
     "text": [
      "Time taken by List : 0.2582 seconds\n",
      "Time taken by NumPy : 0.0105 seconds\n",
      "List takes 24.53x more time than NumPy\n",
      "8000000 Bytes occupied by arr2_1\n"
     ]
    }
   ],
   "source": [
    "#q2 Compare the time taken to multiply two Python lists vs. NumPy arrays.\n",
    "\n",
    "size = 1000000\n",
    "list1 = list(range(size))\n",
    "list2 = list(range(size, 2*size))\n",
    "\n",
    "arr2_1 = np.array(list1)\n",
    "arr2_2 = np.array(list2)\n",
    "\n",
    "start_time1 = time.time()\n",
    "list_result = [a*b for a, b in zip(list1,list2)]\n",
    "end_time1 = time.time() \n",
    "list_time =end_time1 - start_time1\n",
    "\n",
    "#NumPy arrya Multiplication\n",
    "start_time2 = time.time()\n",
    "numpy_result = arr2_1 * arr2_2\n",
    "end_time2 = time.time()\n",
    "numpy_time = end_time2 - start_time2\n",
    "print(f\"Time taken by List : {list_time:.4f} seconds\")\n",
    "print(f\"Time taken by NumPy : {numpy_time:.4f} seconds\")\n",
    "print(f\"List takes {list_time/numpy_time:.2f}x more time than NumPy\")\n",
    "print(arr2_1.nbytes,\"Bytes occupied by arr2_1\")"
   ]
  },
  {
   "cell_type": "code",
   "execution_count": 4,
   "id": "d8cb9fb3-d966-464e-9f4c-01c1a3605eb0",
   "metadata": {},
   "outputs": [
    {
     "name": "stdout",
     "output_type": "stream",
     "text": [
      "7.62939453125 MB\n",
      "3.814697265625 MB\n",
      "1.9073486328125 MB\n"
     ]
    }
   ],
   "source": [
    "#Q3 Find the memory size of a NumPy array with 1 million elements.\n",
    "\n",
    "arr3 = np.arange(1000000)\n",
    "print(arr3.nbytes/(1024**2),\"MB\")\n",
    "arr3_int32 = arr3.astype(np.int32)\n",
    "print(arr3_int32.nbytes/(1024**2),\"MB\")\n",
    "arr3_int16 = arr3.astype(np.int16)\n",
    "print(arr3_int16.nbytes/(1024**2),\"MB\")"
   ]
  },
  {
   "cell_type": "code",
   "execution_count": 5,
   "id": "e2bd4ce9-1184-4ff1-8d3e-5177416461e1",
   "metadata": {},
   "outputs": [
    {
     "name": "stdout",
     "output_type": "stream",
     "text": [
      "Array:\n",
      " [[0.84134167 0.24594009 0.05627359]\n",
      " [0.96949006 0.97162992 0.51543335]\n",
      " [0.44050721 0.25921524 0.16645978]]\n",
      "The mean is: 0.49625454685873804 \n",
      "The median value is: 0.4405072094206406\n",
      "\n"
     ]
    }
   ],
   "source": [
    "#Q4 Create a 3×3 array of random numbers and find its mean, median, and std.\n",
    "\n",
    "arr4 = np.random.rand(3,3)\n",
    "print(\"Array:\\n\",arr4)\n",
    "mean_val1 = np.mean(arr4)\n",
    "median_val1 = np.median(arr4)\n",
    "std_val1 =np.std(arr4)\n",
    "print(f\"The mean is: {mean_val1} \\nThe median value is: {median_val1}\\n\")"
   ]
  },
  {
   "cell_type": "code",
   "execution_count": 6,
   "id": "34ce3c59-e5f5-405a-b198-78843fce993a",
   "metadata": {},
   "outputs": [
    {
     "name": "stdout",
     "output_type": "stream",
     "text": [
      "Length of arr5_1 : 12\n",
      "[[9 9 9 9]\n",
      " [9 9 9 9]\n",
      " [9 9 9 9]]\n"
     ]
    },
    {
     "data": {
      "text/plain": [
       "array([[ 2,  5,  7,  9],\n",
       "       [ 2,  4, 56,  8],\n",
       "       [ 7,  3,  7,  6]])"
      ]
     },
     "execution_count": 6,
     "metadata": {},
     "output_type": "execute_result"
    }
   ],
   "source": [
    "#Q5 Reshape a 1D array of size 12 into a 3×4 matrix.\n",
    "\n",
    "arr5_1 = np.array([2,5,7,9,2,4,56,8,7,3,7,6])\n",
    "print(f\"Length of arr5_1 : {len(arr5_1)}\")\n",
    "arr5_2 = np.full((3,4),arr5_1[3])\n",
    "arr5_3 = arr5_1.reshape(3,4)\n",
    "print(arr5_2)\n",
    "arr5_3"
   ]
  },
  {
   "cell_type": "code",
   "execution_count": 7,
   "id": "8977cd8d-6331-447c-91ac-f56d4b46c670",
   "metadata": {},
   "outputs": [
    {
     "name": "stdout",
     "output_type": "stream",
     "text": [
      "[ 76 754 214  66  66 888]\n"
     ]
    }
   ],
   "source": [
    "#Q6 Use boolean masking to extract all values > 50 from an array.\n",
    "\n",
    "arr6_1 = np.array([44,6,1,3,76,24,754,214,66,33,66,7,8,888,])\n",
    "mask = arr6_1 > 50\n",
    "print(arr6_1[mask])"
   ]
  },
  {
   "cell_type": "code",
   "execution_count": 8,
   "id": "7b38cfa2-d079-427d-a570-9bcc50ff52a4",
   "metadata": {},
   "outputs": [
    {
     "name": "stdout",
     "output_type": "stream",
     "text": [
      " original marrix :\n",
      " [[1. 0. 0. 0. 0.]\n",
      " [0. 1. 0. 0. 0.]\n",
      " [0. 0. 1. 0. 0.]\n",
      " [0. 0. 0. 1. 0.]\n",
      " [0. 0. 0. 0. 1.]] \n",
      "\n",
      "[[7. 0. 0. 0. 0.]\n",
      " [0. 7. 0. 0. 0.]\n",
      " [0. 0. 7. 0. 0.]\n",
      " [0. 0. 0. 7. 0.]\n",
      " [0. 0. 0. 0. 7.]]\n"
     ]
    }
   ],
   "source": [
    "#Q7 Create a 5×5 identity matrix and replace the diagonal with 7.\n",
    "\n",
    "arr7_1 = np.eye(5)\n",
    "print(f\" original marrix :\\n {arr7_1} \\n\")\n",
    "arr7_3 =arr7_1.copy()\n",
    "np.fill_diagonal(arr7_3 , 7)\n",
    "print(arr7_3)"
   ]
  },
  {
   "cell_type": "code",
   "execution_count": 9,
   "id": "77489d00-f957-4c54-8819-4de003809ff3",
   "metadata": {},
   "outputs": [
    {
     "name": "stdout",
     "output_type": "stream",
     "text": [
      "[86  4 27 22 97  4 62 80 50 80  7 71 93 47 88 81 16 28 81 71 53 98 63 50\n",
      " 87 16 29 95 46 73 61 12 25  7 84 32 99 13 36 17 84 16 85 41 33 78 42 95\n",
      " 28 21]\n",
      "unique values are [ 4  7 12 13 16 17 21 22 25 27 28 29 32 33 36 41 42 46 47 50 53 61 62 63\n",
      " 71 73 78 80 81 84 85 86 87 88 93 95 97 98 99]\n"
     ]
    }
   ],
   "source": [
    "#Q8 Generate an array of 50 random integers between 1–100 and find the unique values.\n",
    "\n",
    "random_int = np.random.randint(1,100, size = 50)\n",
    "print(random_int)\n",
    "unique_values = np.unique(random_int)\n",
    "print(f\"unique values are {unique_values}\")"
   ]
  },
  {
   "cell_type": "code",
   "execution_count": 10,
   "id": "492138b3-b628-4740-8346-230cd4e63513",
   "metadata": {},
   "outputs": [
    {
     "name": "stdout",
     "output_type": "stream",
     "text": [
      " dot product of 1 & 2 :\n",
      " 51\n",
      " dot product of 1 & 2 :\n",
      " [[101  76]\n",
      " [ 76 127]]\n",
      " cross product of 1 & 2 :\n",
      " [-46  16  -3]\n"
     ]
    }
   ],
   "source": [
    "#Q9 Create two arrays and create their dot product and cross product \n",
    "\n",
    "# 1D & 2D arrays manual using way\n",
    "arr8_1 = np.array([1,4,6,])\n",
    "arr8_2 = np.array([3,9,2,])\n",
    "arr8_3 = np.array([[0,4,9,2],[3,1,6,9]])\n",
    "arr8_4 = np.array([[1,2],[3,4],[3,5],[6,7]])\n",
    "arr8_4 = arr8_3.T\n",
    "\n",
    "# randomly creating matrix \n",
    "# a = np.random.randint(1,100, size = 9 )\n",
    "# print(a)\n",
    "\n",
    "# arr8_1 = a\n",
    "# arr8_2 = a\n",
    "# arr8_3 = a.reshape(3,3)\n",
    "# arr8_4 = a.reshape(3,3)\n",
    "\n",
    "# dot products\n",
    "dot_product1 = np.dot(arr8_1,arr8_2)\n",
    "dot_product2 = np.dot(arr8_3,arr8_4)\n",
    "print(f\" dot product of 1 & 2 :\\n {dot_product1}\")\n",
    "print(f\" dot product of 1 & 2 :\\n {dot_product2}\")\n",
    "\n",
    "# cross products\n",
    "\n",
    "cross_product1 = np.cross(arr8_1, arr8_2)\n",
    "print(f\" cross product of 1 & 2 :\\n {cross_product1}\")"
   ]
  },
  {
   "cell_type": "code",
   "execution_count": 11,
   "id": "7bd47c1f-133f-4b47-a989-8d5d509a609b",
   "metadata": {},
   "outputs": [
    {
     "name": "stdout",
     "output_type": "stream",
     "text": [
      "Array A: [1 2 3]\n",
      "Array B: [4 5 6]\n",
      "\n",
      "Cross product: [-3  6 -3]\n"
     ]
    }
   ],
   "source": [
    "#cross Product\n",
    "\n",
    "array_a = np.array([1, 2, 3])\n",
    "array_b = np.array([4, 5, 6])\n",
    "print(f\"Array A: {array_a}\")\n",
    "print(f\"Array B: {array_b}\")\n",
    "cross_product = np.cross(array_a, array_b)\n",
    "print(f\"\\nCross product: {cross_product}\")"
   ]
  },
  {
   "cell_type": "code",
   "execution_count": 12,
   "id": "3f198d59-015e-46b2-849d-9997ed4a7562",
   "metadata": {},
   "outputs": [
    {
     "name": "stdout",
     "output_type": "stream",
     "text": [
      "Original dataset (4 samples × 3 features):\n",
      "[[54.71435164 38.09024305 64.32706968]\n",
      " [46.87348104 42.79411267 58.8716294 ]\n",
      " [58.59588414 43.63476496 50.15696372]\n",
      " [27.57315046 61.50035725 59.91946022]]\n",
      "Shape: (4, 3)\n",
      "\n",
      "Mean values (per feature): [46.93921682 46.50486948 58.31878076]\n",
      "Mean shape: (3,)\n",
      "Standard deviation (per feature): [11.95177248  8.91175919  5.13766994]\n",
      "Std shape: (3,)\n",
      "\n",
      "Normalized dataset:\n",
      "[[ 0.65054241 -0.94421609  1.16945794]\n",
      " [-0.00550009 -0.41638881  0.10760688]\n",
      " [ 0.97530867 -0.32205813 -1.5886223 ]\n",
      " [-1.62035099  1.68266304  0.31155747]]\n",
      "\n",
      "Verification:\n",
      "New means (should be ~0): [ 0.00000000e+00 -5.55111512e-17  1.37390099e-15]\n",
      "New std devs (should be ~1): [1. 1. 1.]\n"
     ]
    }
   ],
   "source": [
    "#Q10 Normalize a 2D dataset using broadcasting (subtract mean, divide by std).\n",
    "\n",
    "#step 1 : let's create the 2D dataset first \n",
    "\n",
    "np.random.seed(1234)                                 # in helps in reproducibility ; the same numbers will be printed in every run \n",
    "dataset = np.random.randn(4, 3) * 10 + 50            # 4 samples, 3 features\n",
    "print(\"Original dataset (4 samples × 3 features):\")\n",
    "print(dataset)\n",
    "print(f\"Shape: {dataset.shape}\")\n",
    "\n",
    "# Step 2: Calculate mean along columns (axis=0)\n",
    "\n",
    "mean_values = np.mean(dataset, axis=0)               # computes the mean for each column (feature) across all rows (samples).\n",
    "print(f\"\\nMean values (per feature): {mean_values}\")\n",
    "print(f\"Mean shape: {mean_values.shape}\")\n",
    "\n",
    "# Step 3: Calculate standard deviation along columns\n",
    "\n",
    "std_values = np.std(dataset, axis=0)                 # computes the standard deviation for each feature.\n",
    "print(f\"Standard deviation (per feature): {std_values}\")\n",
    "print(f\"Std shape: {std_values.shape}\")\n",
    "\n",
    "# Step 4: Normalize using broadcasting\n",
    "\n",
    "normalized_dataset = (dataset - mean_values) / std_values\n",
    "print(f\"\\nNormalized dataset:\")\n",
    "print(normalized_dataset)\n",
    "\n",
    "# Verify normalization\n",
    "\n",
    "print(f\"\\nVerification:\")\n",
    "print(f\"New means (should be ~0): {np.mean(normalized_dataset, axis=0)}\")\n",
    "print(f\"New std devs (should be ~1): {np.std(normalized_dataset, axis=0)}\")"
   ]
  },
  {
   "cell_type": "code",
   "execution_count": 13,
   "id": "e40c50c1-a964-4f99-84aa-233268441c30",
   "metadata": {},
   "outputs": [
    {
     "name": "stdout",
     "output_type": "stream",
     "text": [
      "[ 0 10  0  8  0 15  0  2  0 12]\n"
     ]
    }
   ],
   "source": [
    "#Q11 Replace all negative numbers in an array with 0.\n",
    "\n",
    "mixed_array = np.array([-5, 10, -3, 8, -1, 15, -9, 2, -7, 12])\n",
    "new_array = mixed_array.copy()\n",
    "new_array[new_array<0] = 0\n",
    "print(new_array)"
   ]
  },
  {
   "cell_type": "code",
   "execution_count": 21,
   "id": "0a724ffb-b24f-4aaa-b083-b5a5cc3fb361",
   "metadata": {},
   "outputs": [
    {
     "name": "stdout",
     "output_type": "stream",
     "text": [
      "Original 4×4 matrix:\n",
      "[[ 1  2  3  4]\n",
      " [ 5  6  7  8]\n",
      " [ 9 10 11 12]\n",
      " [13 14 15 16]]\n",
      "\n",
      "First row (index 0): [1 2 3 4]\n",
      "Last row (index -1): [13 14 15 16]\n",
      "\n",
      "After swapping first and last rows:\n",
      "[[13 14 15 16]\n",
      " [ 5  6  7  8]\n",
      " [ 9 10 11 12]\n",
      " [ 1  2  3  4]]\n"
     ]
    }
   ],
   "source": [
    "#Q12  Create a 4×4 matrix and swap its first and last row.\n",
    "\n",
    "matrix_4x4 = np.arange(1, 17).reshape(4, 4)\n",
    "print(\"Original 4×4 matrix:\")\n",
    "print(matrix_4x4)\n",
    "\n",
    "print(f\"\\nFirst row (index 0): {matrix_4x4[0]}\")\n",
    "print(f\"Last row (index -1): {matrix_4x4[-1]}\")\n",
    "\n",
    "# Step 3: Swap rows using array indexing\n",
    "matrix_swapped = matrix_4x4.copy()  # Create a copy to preserve original\n",
    "matrix_swapped[[0, -1]] = matrix_swapped[[-1, 0]]\n",
    "print(f\"\\nAfter swapping first and last rows:\")\n",
    "print(matrix_swapped)\n",
    "\n",
    "# Alternative method using temporary variable\n",
    "\n",
    "# matrix_alt = matrix_4x4.copy()\n",
    "# temp = matrix_alt[0].copy()\n",
    "# matrix_alt[0] = matrix_alt[-1]\n",
    "# matrix_alt[-1] = temp\n",
    "# print(matrix_alt)"
   ]
  },
  {
   "cell_type": "code",
   "execution_count": 31,
   "id": "938ca011-8fd0-45e8-a0ec-60ab5051e2d5",
   "metadata": {},
   "outputs": [
    {
     "data": {
      "text/plain": [
       "array([1, 3, 5, 7, 9])"
      ]
     },
     "execution_count": 31,
     "metadata": {},
     "output_type": "execute_result"
    }
   ],
   "source": [
    "#Q13. Use fancy indexing to select odd numbers from an array.\n",
    "arr13 = np.array([1,2,3,4,5,6,7,8,9])\n",
    "odd_indices = np.where(arr13 %2 != 0)\n",
    "odd_elements = arr13[odd_indices]\n",
    "odd_elements"
   ]
  },
  {
   "cell_type": "code",
   "execution_count": 37,
   "id": "76b5ff80-13db-47a5-b22e-2fa31d103dd8",
   "metadata": {},
   "outputs": [
    {
     "name": "stdout",
     "output_type": "stream",
     "text": [
      "vertical stack \n",
      " [[ 3  5]\n",
      " [ 9  2]\n",
      " [ 7  2]\n",
      " [12  6]]\n",
      "horizontal stack \n",
      " [[ 3  5  7  2]\n",
      " [ 9  2 12  6]]\n"
     ]
    }
   ],
   "source": [
    "# Q14. Stack two arrays vertically and horizontally.\n",
    "\n",
    "arr14_a = np.array([[3,5],[9,2]])\n",
    "arr14_b = np.array([[7,2],[12,6]])\n",
    "\n",
    "v_stack = np.vstack((arr14_a,arr14_b))\n",
    "h_stack = np.hstack((arr14_a,arr14_b))\n",
    "\n",
    "print(f\"vertical stack \\n {v_stack}\")\n",
    "print(f\"horizontal stack \\n {h_stack}\")"
   ]
  },
  {
   "cell_type": "code",
   "execution_count": null,
   "id": "8c5d8b3c-bb42-45c0-9cde-28ae9969977b",
   "metadata": {},
   "outputs": [],
   "source": []
  }
 ],
 "metadata": {
  "kernelspec": {
   "display_name": "Python [conda env:base] *",
   "language": "python",
   "name": "conda-base-py"
  },
  "language_info": {
   "codemirror_mode": {
    "name": "ipython",
    "version": 3
   },
   "file_extension": ".py",
   "mimetype": "text/x-python",
   "name": "python",
   "nbconvert_exporter": "python",
   "pygments_lexer": "ipython3",
   "version": "3.13.5"
  }
 },
 "nbformat": 4,
 "nbformat_minor": 5
}
