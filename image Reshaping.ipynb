{
 "cells": [
  {
   "cell_type": "code",
   "execution_count": 2,
   "id": "1ced2392-fd73-4f20-a0a6-a6a3a601582f",
   "metadata": {},
   "outputs": [
    {
     "name": "stdout",
     "output_type": "stream",
     "text": [
      "Original Shape: (1440, 1277)\n",
      "Flattened Shape: (1838880,)\n"
     ]
    }
   ],
   "source": [
    "import numpy as np\n",
    "from PIL import Image\n",
    "\n",
    "# Load image and convert to grayscale\n",
    "img = Image.open(\"Arka.jpg\").convert(\"L\")\n",
    "arr = np.array(img)\n",
    "\n",
    "print(\"Original Shape:\", arr.shape)\n",
    "\n",
    "# Flatten to 1D vector\n",
    "flat = arr.reshape(-1)\n",
    "print(\"Flattened Shape:\", flat.shape)\n",
    "\n",
    "# Reshape back\n",
    "reshaped = flat.reshape(arr.shape)\n"
   ]
  },
  {
   "cell_type": "code",
   "execution_count": null,
   "id": "e15875c9-1c49-4551-a92f-d0e32dc0b157",
   "metadata": {},
   "outputs": [],
   "source": []
  }
 ],
 "metadata": {
  "kernelspec": {
   "display_name": "Python [conda env:base] *",
   "language": "python",
   "name": "conda-base-py"
  },
  "language_info": {
   "codemirror_mode": {
    "name": "ipython",
    "version": 3
   },
   "file_extension": ".py",
   "mimetype": "text/x-python",
   "name": "python",
   "nbconvert_exporter": "python",
   "pygments_lexer": "ipython3",
   "version": "3.13.5"
  }
 },
 "nbformat": 4,
 "nbformat_minor": 5
}
